{
 "cells": [
  {
   "cell_type": "markdown",
   "metadata": {},
   "source": [
    "# Project 1: Higgs Boson Detection"
   ]
  },
  {
   "cell_type": "code",
   "execution_count": 1,
   "metadata": {},
   "outputs": [],
   "source": [
    "import numpy as np\n",
    "from regression_tools import * \n",
    "import matplotlib.pyplot as plt"
   ]
  },
  {
   "cell_type": "markdown",
   "metadata": {},
   "source": [
    "## Loading files"
   ]
  },
  {
   "cell_type": "code",
   "execution_count": null,
   "metadata": {},
   "outputs": [],
   "source": [
    "with open('test.csv') as csv_file_test:\n",
    "    test_reader=csv.reader(csv_file_test,delimiter=',')\n",
    "    test_list=[]\n",
    "    for row in test_reader:\n",
    "        test_list.append(row)\n",
    "    y_test=[]\n",
    "    x_test_list=[]\n",
    "    for test_row in test_list:\n",
    "        y_test.append(test_row[1])\n",
    "        test_row.pop(1)\n",
    "        x_test_list.append(test_row)\n",
    "    x_test=np.array(x_test_list)"
   ]
  },
  {
   "cell_type": "code",
   "execution_count": null,
   "metadata": {},
   "outputs": [],
   "source": [
    "x_test.shape"
   ]
  },
  {
   "cell_type": "code",
   "execution_count": null,
   "metadata": {},
   "outputs": [],
   "source": [
    "def load_data(train_path,test_path):\n",
    "    train_reader=np.genfromtxt(train_path,delimiter=',',missing_values=-999)\n",
    "    train_list=[]\n",
    "    for row in train_reader:\n",
    "        train_list.append(row)\n",
    "    y_train_bool=[]\n",
    "    x_train_l=[]\n",
    "    for train_row in train_list:\n",
    "        train_row=np.ndarray.tolist(train_row)\n",
    "        y_train_bool.append(train_row[1]=='b')\n",
    "        train_row.pop(1)\n",
    "        x_train_l.append(train_row)\n",
    "    Data_structure_X=x_train_l[0]\n",
    "    x_train_l.pop(0)\n",
    "    y_train_bool.pop(0)\n",
    "    x_train=np.array(x_train_l)\n",
    "    y_train=np.array(y_train_bool)\n",
    "    \n",
    "    \n",
    "    test_reader=np.genfromtxt(test_path,delimiter=',')\n",
    "    test_list=[]\n",
    "    for row in test_reader:\n",
    "        test_list.append(row)\n",
    "    #y_test_l=[]\n",
    "    x_test_l=[]\n",
    "    for test_row in test_list:\n",
    "        test_row=np.ndarray.tolist(test_row)\n",
    "        #y_test_l.append(test_row[1])\n",
    "        test_row.pop(1)\n",
    "        x_test_l.append(test_row)\n",
    "    x_test_l.pop(0)\n",
    "    #y_test_l.pop(0)\n",
    "    #y_test_bool=[y_test_l[:]==a]\n",
    "    x_test=np.array(x_test_l)\n",
    "    #y_test=np.array(y_test_bool)\n",
    "    return x_train,y_train,x_test,Data_structure_X\n",
    "        "
   ]
  },
  {
   "cell_type": "code",
   "execution_count": null,
   "metadata": {},
   "outputs": [],
   "source": [
    "train_reader=np.genfromtxt('train.csv',delimiter=',',dtype=None,skip_header=1)\n",
    "train_reader=np.ndarray.tolist(train_reader)\n"
   ]
  },
  {
   "cell_type": "code",
   "execution_count": null,
   "metadata": {},
   "outputs": [],
   "source": [
    "type(train_reader)"
   ]
  },
  {
   "cell_type": "code",
   "execution_count": null,
   "metadata": {},
   "outputs": [],
   "source": [
    "a=np.array(train_reader)[:,2:]"
   ]
  },
  {
   "cell_type": "code",
   "execution_count": null,
   "metadata": {},
   "outputs": [],
   "source": []
  },
  {
   "cell_type": "code",
   "execution_count": null,
   "metadata": {},
   "outputs": [],
   "source": []
  },
  {
   "cell_type": "code",
   "execution_count": null,
   "metadata": {},
   "outputs": [],
   "source": [
    "b=a.astype(np.float)"
   ]
  },
  {
   "cell_type": "code",
   "execution_count": null,
   "metadata": {},
   "outputs": [],
   "source": [
    "b"
   ]
  },
  {
   "cell_type": "code",
   "execution_count": null,
   "metadata": {},
   "outputs": [],
   "source": []
  },
  {
   "cell_type": "code",
   "execution_count": null,
   "metadata": {},
   "outputs": [],
   "source": [
    "dt=np.dtype('float,object'+30*',float')\n",
    "xar=np.array(train_reader,dtype=dt)"
   ]
  },
  {
   "cell_type": "code",
   "execution_count": null,
   "metadata": {},
   "outputs": [],
   "source": []
  },
  {
   "cell_type": "code",
   "execution_count": 2,
   "metadata": {},
   "outputs": [],
   "source": [
    "def load_data(train_path,test_path):\n",
    "    train_reader=np.genfromtxt(train_path,delimiter=',',skip_header=1,converters={1:lambda s: float(0) if s==b'b' else float(1)})\n",
    "    y_train=train_reader[:,1]\n",
    "    x_train=train_reader[:,2:]\n",
    "    test_reader=np.genfromtxt(test_path,delimiter=',')\n",
    "    x_test=test_reader[:,2:]\n",
    "    return x_train,y_train,x_test"
   ]
  },
  {
   "cell_type": "code",
   "execution_count": 3,
   "metadata": {},
   "outputs": [],
   "source": [
    " x_train,y_train,x_test=load_data('train.csv','test.csv')"
   ]
  },
  {
   "cell_type": "code",
   "execution_count": null,
   "metadata": {},
   "outputs": [],
   "source": [
    "x_train"
   ]
  },
  {
   "cell_type": "code",
   "execution_count": null,
   "metadata": {},
   "outputs": [],
   "source": []
  },
  {
   "cell_type": "code",
   "execution_count": 4,
   "metadata": {},
   "outputs": [
    {
     "ename": "NameError",
     "evalue": "name 'build_polinomial' is not defined",
     "output_type": "error",
     "traceback": [
      "\u001b[1;31m---------------------------------------------------------------------------\u001b[0m",
      "\u001b[1;31mNameError\u001b[0m                                 Traceback (most recent call last)",
      "\u001b[1;32m<ipython-input-4-3487ad1717c1>\u001b[0m in \u001b[0;36m<module>\u001b[1;34m()\u001b[0m\n\u001b[0;32m      2\u001b[0m \u001b[0mresults\u001b[0m\u001b[1;33m=\u001b[0m\u001b[1;33m[\u001b[0m\u001b[1;33m]\u001b[0m\u001b[1;33m\u001b[0m\u001b[0m\n\u001b[0;32m      3\u001b[0m \u001b[1;32mfor\u001b[0m \u001b[0mj\u001b[0m \u001b[1;32min\u001b[0m \u001b[0mrange\u001b[0m\u001b[1;33m(\u001b[0m\u001b[1;36m1\u001b[0m\u001b[1;33m,\u001b[0m\u001b[1;36m12\u001b[0m\u001b[1;33m)\u001b[0m\u001b[1;33m:\u001b[0m\u001b[1;33m\u001b[0m\u001b[0m\n\u001b[1;32m----> 4\u001b[1;33m     \u001b[0mphi_train\u001b[0m\u001b[1;33m=\u001b[0m\u001b[0mbuild_polinomial\u001b[0m\u001b[1;33m(\u001b[0m\u001b[0mx_train\u001b[0m\u001b[1;33m,\u001b[0m\u001b[0mj\u001b[0m\u001b[1;33m,\u001b[0m\u001b[0mnmc_tr\u001b[0m\u001b[1;33m)\u001b[0m\u001b[1;33m\u001b[0m\u001b[0m\n\u001b[0m\u001b[0;32m      5\u001b[0m     \u001b[0mloss\u001b[0m\u001b[1;33m,\u001b[0m\u001b[0mw\u001b[0m\u001b[1;33m=\u001b[0m\u001b[0mleast_squares\u001b[0m\u001b[1;33m(\u001b[0m\u001b[0my_train\u001b[0m\u001b[1;33m,\u001b[0m\u001b[0mphi_train\u001b[0m\u001b[1;33m)\u001b[0m\u001b[1;33m\u001b[0m\u001b[0m\n\u001b[0;32m      6\u001b[0m     \u001b[0mresult\u001b[0m\u001b[1;33m=\u001b[0m\u001b[1;33m(\u001b[0m\u001b[0my_train\u001b[0m\u001b[1;33m==\u001b[0m\u001b[1;33m(\u001b[0m\u001b[0mphi_train\u001b[0m\u001b[1;33m.\u001b[0m\u001b[0mdot\u001b[0m\u001b[1;33m(\u001b[0m\u001b[0mw\u001b[0m\u001b[1;33m)\u001b[0m\u001b[1;33m>\u001b[0m\u001b[1;36m0.5\u001b[0m\u001b[1;33m)\u001b[0m\u001b[1;33m)\u001b[0m\u001b[1;33m.\u001b[0m\u001b[0msum\u001b[0m\u001b[1;33m(\u001b[0m\u001b[1;33m)\u001b[0m\u001b[1;33m/\u001b[0m\u001b[0my_train\u001b[0m\u001b[1;33m.\u001b[0m\u001b[0mshape\u001b[0m\u001b[1;33m[\u001b[0m\u001b[1;36m0\u001b[0m\u001b[1;33m]\u001b[0m\u001b[1;33m\u001b[0m\u001b[0m\n",
      "\u001b[1;31mNameError\u001b[0m: name 'build_polinomial' is not defined"
     ]
    }
   ],
   "source": [
    "# to do: implement cross validation\n",
    "results=[]\n",
    "for j in range(1,12):\n",
    "    phi_train=build_polinomial(x_train,j,nmc_tr)\n",
    "    loss,w=least_squares(y_train,phi_train)\n",
    "    result=(y_train==(phi_train.dot(w)>0.5)).sum()/y_train.shape[0]\n",
    "    results.append(result)\n",
    "plt.figure\n",
    "plt.plot(range(1,12),results)\n",
    "plt.xlabel('degree')\n",
    "plt.ylabel('train accuracy')\n",
    "plt.show()"
   ]
  },
  {
   "cell_type": "code",
   "execution_count": null,
   "metadata": {},
   "outputs": [],
   "source": [
    "plt.show()"
   ]
  },
  {
   "cell_type": "code",
   "execution_count": 5,
   "metadata": {},
   "outputs": [],
   "source": [
    "def nan_converter(x,nm=-999,direction=True):\n",
    "    \"\"\"convert the not measured elements of the matrix in nan, \n",
    "    if direction=False the opposite conversion is made\"\"\"\n",
    "    if direction:\n",
    "        inds=np.where(x[:,:]==nm)\n",
    "        x[inds]=np.nan\n",
    "    else:\n",
    "        inds=np.where(np.isnan(x))\n",
    "        x[inds]=nm\n",
    "    return x\n",
    "        "
   ]
  },
  {
   "cell_type": "code",
   "execution_count": 6,
   "metadata": {},
   "outputs": [],
   "source": [
    "def find_cluster(x_bool):\n",
    "    v_bool=x_bool.sum(0)\n",
    "    nb_cluster=0\n",
    "    index_clusters=[]\n",
    "    while np.max(v_bool)>0:\n",
    "        index_clusters.append(np.argmax(v_bool))\n",
    "        nb_cluster+=1\n",
    "        v_bool=v_bool*(v_bool[:]!=np.max(v_bool))\n",
    "    return nb_cluster, index_clusters"
   ]
  },
  {
   "cell_type": "code",
   "execution_count": 7,
   "metadata": {},
   "outputs": [],
   "source": [
    "def cleaning_function(x,nm=-999):\n",
    "    # nm= not_measured\n",
    "    x_bool=x[:,:]==nm\n",
    "    nb_cluster,index_clusters=find_cluster(x_bool)\n",
    "    v=x[:,index_clusters]!=nm\n",
    "    x=np.concatenate((x,v,(np.prod(v,axis=1)).reshape(-1,1)),axis=1)\n",
    "    inds=np.where(x_bool)\n",
    "    x[inds]=np.nan\n",
    "    col_mean=np.nanmean(x,axis=0)\n",
    "    x[inds]=np.take(col_mean,inds[1])\n",
    "    return x,nb_cluster"
   ]
  },
  {
   "cell_type": "code",
   "execution_count": 8,
   "metadata": {},
   "outputs": [],
   "source": [
    "def build_polinomial(x,degree,not_poly_features=0,nm=-999):\n",
    "    \"\"\"create polynomial features until specified degree. It doesn't \n",
    "    compute the power of the last n columns of the metrix, n specified in \n",
    "    not_poly_features\"\"\"\n",
    "    x=nan_converter(x,nm=nm,direction=True)\n",
    "    phi_list=[np.ones(x.shape[0]).reshape(-1,1)]\n",
    "    # is it possible to avoid the loop?\n",
    "    for i in range(1,degree+1):\n",
    "        phi_list.append(np.power(x[:,0:x.shape[1]-1-not_poly_features],i))\n",
    "    if not_poly_features>0:\n",
    "        phi_list.append(x[:,x.shape[1]-1-not_poly_features:])\n",
    "    phi=np.concatenate(phi_list,axis=1)\n",
    "    phi=nan_converter(phi,nm=nm,direction=False)\n",
    "    return phi"
   ]
  },
  {
   "cell_type": "code",
   "execution_count": null,
   "metadata": {},
   "outputs": [],
   "source": [
    "#x_train,nmc_tr=cleaning_function(x_train,-999)\n",
    "#x_test,nmc_te=cleaning_function(x_test,-999)\n",
    "# nmc= nb of not measured column, i.e. columns where \n",
    "#it is present at least one not measured element\n",
    "#phi_train=build_polinomial(x_train,4,nmc_tr)"
   ]
  },
  {
   "cell_type": "code",
   "execution_count": null,
   "metadata": {},
   "outputs": [],
   "source": [
    "print(phi_train[3])"
   ]
  },
  {
   "cell_type": "code",
   "execution_count": 9,
   "metadata": {},
   "outputs": [],
   "source": [
    "def build_k_indices(y, k_fold, seed):\n",
    "    \"\"\"build k indices for k-fold.\"\"\"\n",
    "    num_row = y.shape[0]\n",
    "    interval = int(num_row / k_fold)\n",
    "    np.random.seed(seed)\n",
    "    indices = np.random.permutation(num_row)\n",
    "    k_indices = [indices[k * interval: (k + 1) * interval]\n",
    "                 for k in range(k_fold)]\n",
    "    return np.array(k_indices)"
   ]
  },
  {
   "cell_type": "code",
   "execution_count": 29,
   "metadata": {},
   "outputs": [],
   "source": [
    "def LOO_cross_validation(y, phi, k_indices, k, lambda_, degree, nmc_tr):\n",
    "    \"\"\"return the loss of ridge/linear regression.\"\"\"\n",
    "    \"\"\"Probabilmente conviene implementare una per la regressione normale, in modo da capire \n",
    "    quale sia il grado massimo oltre il quale non ha senso andare e poi lavorare con lambda \n",
    "    per capire come eliminare feature\"\"\"\n",
    "    \n",
    "    \n",
    "    # Get k'th subgroup in test, others in train    \n",
    "    train_indices = np.delete(k_indices , k , 0).reshape((k_indices.shape[0]-1) * k_indices.shape[1])\n",
    "    x_test = phi[k_indices[k],:]\n",
    "    x_train = phi[train_indices,:]\n",
    "    y_test = y[k_indices[k]]\n",
    "    y_train = y[train_indices]\n",
    "    \n",
    "    # Form data with polynomial degree\n",
    "    tx_train = build_polinomial(x_train, degree, nmc_tr)\n",
    "    tx_test = build_polinomial(x_test, degree, nmc_tr)\n",
    "    #print(tx_test.shape)\n",
    "    #print(tx_train.shape)\n",
    "    #print(y_train.shape)\n",
    "    # Ridge regression / Linear regression\n",
    "    loss , w = _regression(y_train, tx_train, lambda_)\n",
    "    #loss , w = least_squares(y_train,tx_train)\n",
    "    print('REGRESSION DONE')\n",
    "    #print(y_test.shape)\n",
    "    #print(w.shape)\n",
    "    \n",
    "    # Calculate results\n",
    "    result=(y_test==(tx_test.dot(w)>0.5)).sum()/y_test.shape[0]\n",
    "    print('RESULT CALCULATED')\n",
    "    return result"
   ]
  },
  {
   "cell_type": "code",
   "execution_count": 30,
   "metadata": {
    "scrolled": false
   },
   "outputs": [
    {
     "name": "stdout",
     "output_type": "stream",
     "text": [
      "DEGREE IS: \n",
      "1\n",
      "K CONSIDERED IS: \n",
      "0\n",
      "(62500,)\n",
      "(187500,)\n",
      "(250000,)\n",
      "(187500, 35)\n",
      "REGRESSION DONE\n",
      "RESULT CALCULATED\n",
      "K CONSIDERED IS: \n",
      "1\n",
      "(62500,)\n",
      "(187500,)\n",
      "(250000,)\n",
      "(187500, 35)\n",
      "REGRESSION DONE\n",
      "RESULT CALCULATED\n",
      "K CONSIDERED IS: \n",
      "2\n",
      "(62500,)\n",
      "(187500,)\n",
      "(250000,)\n",
      "(187500, 35)\n",
      "REGRESSION DONE\n",
      "RESULT CALCULATED\n",
      "K CONSIDERED IS: \n",
      "3\n",
      "(62500,)\n",
      "(187500,)\n",
      "(250000,)\n",
      "(187500, 35)\n",
      "REGRESSION DONE\n",
      "RESULT CALCULATED\n",
      "DEGREE IS: \n",
      "2\n",
      "K CONSIDERED IS: \n",
      "0\n",
      "(62500,)\n",
      "(187500,)\n",
      "(250000,)\n",
      "(187500, 65)\n",
      "REGRESSION DONE\n",
      "RESULT CALCULATED\n",
      "K CONSIDERED IS: \n",
      "1\n",
      "(62500,)\n",
      "(187500,)\n",
      "(250000,)\n",
      "(187500, 65)\n",
      "REGRESSION DONE\n",
      "RESULT CALCULATED\n",
      "K CONSIDERED IS: \n",
      "2\n",
      "(62500,)\n",
      "(187500,)\n",
      "(250000,)\n",
      "(187500, 65)\n",
      "REGRESSION DONE\n",
      "RESULT CALCULATED\n",
      "K CONSIDERED IS: \n",
      "3\n",
      "(62500,)\n",
      "(187500,)\n",
      "(250000,)\n",
      "(187500, 65)\n",
      "REGRESSION DONE\n",
      "RESULT CALCULATED\n"
     ]
    }
   ],
   "source": [
    "#def cross_validation_degree():\n",
    "    \n",
    "seed = 1\n",
    "degrees = np.arange(1,3)\n",
    "k_fold = 4\n",
    "# To use ridge regression\n",
    "lambdas = 10**-2\n",
    "    \n",
    "# split data in k fold\n",
    "k_indices = build_k_indices(y_train, k_fold, seed)\n",
    "    \n",
    "# define lists to store the loss of training data and test data\n",
    "cost_te = []\n",
    "\n",
    "# Clean data\n",
    "x_train_cleaned,nmc_tr=cleaning_function(x_train,-999)\n",
    "       \n",
    "# cross validation\n",
    "for ind, degree_ in enumerate(degrees):\n",
    "    print('DEGREE IS: ')\n",
    "    print(degree_)\n",
    "    loss_te = np.zeros(k_fold)\n",
    "    for k in range (k_fold):\n",
    "        print('K CONSIDERED IS: ')\n",
    "        print(k)\n",
    "        result = LOO_cross_validation(y_train, x_train_cleaned, k_indices, k , lambdas, degree_, nmc_tr)\n",
    "        loss_te[k]= result\n",
    "        \n",
    "    cost_te.append(loss_te.mean())\n",
    "\n",
    "\n",
    "#cross_validation_degree()"
   ]
  },
  {
   "cell_type": "code",
   "execution_count": 14,
   "metadata": {},
   "outputs": [
    {
     "data": {
      "image/png": "[encoded data removed]",
      "text/plain": [
       "<Figure size 432x288 with 1 Axes>"
      ]
     },
     "metadata": {},
     "output_type": "display_data"
    }
   ],
   "source": [
    "# Plot the results    \n",
    "plt.figure\n",
    "plt.plot(range(1,20),cost_te)\n",
    "plt.xlabel('degree')\n",
    "plt.ylabel('train accuracy')\n",
    "plt.show()"
   ]
  },
  {
   "cell_type": "code",
   "execution_count": null,
   "metadata": {},
   "outputs": [],
   "source": [
    "# DA PERFEZIONARE ANCORA\n",
    "\n",
    "from plots import cross_validation_visualization\n",
    "\n",
    "def cross_validation_demo():\n",
    "    seed = 1\n",
    "    degree = 7\n",
    "    k_fold = 4\n",
    "    lambdas = np.logspace(-4, 0, 30)\n",
    "    # split data in k fold\n",
    "    k_indices = build_k_indices(y, k_fold, seed)\n",
    "    # define lists to store the loss of training data and test data\n",
    "    rmse_tr = []\n",
    "    rmse_te = []\n",
    "    # ***************************************************\n",
    "    # INSERT YOUR CODE HERE\n",
    "    # cross validation: TODO\n",
    "    for ind, lambda_ in enumerate(lambdas):\n",
    "        loss_tr = np.zeros(k_fold)\n",
    "        loss_te = np.zeros(k_fold)\n",
    "        for k in range (k_fold):\n",
    "            temp_tr, temp_te = cross_validation(y, x, k_indices, k , lambda_, degree)\n",
    "            loss_tr[k]= temp_tr\n",
    "            loss_te[k]= temp_te\n",
    "        \n",
    "        rmse_tr.append(loss_tr.mean())\n",
    "        rmse_te.append(loss_te.mean())\n",
    "    # ***************************************************    \n",
    "    cross_validation_visualization(lambdas, rmse_tr, rmse_te)\n",
    "\n",
    "cross_validation_demo()"
   ]
  },
  {
   "cell_type": "code",
   "execution_count": null,
   "metadata": {},
   "outputs": [],
   "source": []
  },
  {
   "cell_type": "code",
   "execution_count": null,
   "metadata": {},
   "outputs": [],
   "source": [
    "a=0\n",
    "a=a+1\n",
    "a"
   ]
  },
  {
   "cell_type": "code",
   "execution_count": null,
   "metadata": {},
   "outputs": [],
   "source": [
    "? np.genfromtxt()"
   ]
  },
  {
   "cell_type": "code",
   "execution_count": null,
   "metadata": {},
   "outputs": [],
   "source": [
    "np.nan"
   ]
  },
  {
   "cell_type": "code",
   "execution_count": null,
   "metadata": {},
   "outputs": [],
   "source": [
    "? np.mean"
   ]
  },
  {
   "cell_type": "code",
   "execution_count": null,
   "metadata": {},
   "outputs": [],
   "source": [
    "? np.argmin"
   ]
  },
  {
   "cell_type": "code",
   "execution_count": null,
   "metadata": {},
   "outputs": [],
   "source": [
    "a=np.array([1,2,3,4,5])\n",
    "b=np.concatenate([a.reshape(-1,1),a.reshape(-1,1)],axis=1)\n",
    "print(b)"
   ]
  },
  {
   "cell_type": "code",
   "execution_count": null,
   "metadata": {},
   "outputs": [],
   "source": []
  }
 ],
 "metadata": {
  "kernelspec": {
   "display_name": "Python 3",
   "language": "python",
   "name": "python3"
  },
  "language_info": {
   "codemirror_mode": {
    "name": "ipython",
    "version": 3
   },
   "file_extension": ".py",
   "mimetype": "text/x-python",
   "name": "python",
   "nbconvert_exporter": "python",
   "pygments_lexer": "ipython3",
   "version": "3.6.5"
  }
 },
 "nbformat": 4,
 "nbformat_minor": 2
}
