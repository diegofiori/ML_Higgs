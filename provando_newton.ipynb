{
 "cells": [
  {
   "cell_type": "code",
   "execution_count": 3,
   "metadata": {
    "collapsed": true
   },
   "outputs": [],
   "source": [
    "import numpy as np\n",
    "from regression_tools import *\n",
    "from load_data import load_data\n",
    "from implementations import *\n",
    "from preprocessing import *\n",
    "from cross_validation_logistic import *\n",
    "from cross_validation_ridge import plot_cross_validation"
   ]
  },
  {
   "cell_type": "code",
   "execution_count": 4,
   "metadata": {},
   "outputs": [],
   "source": [
    "x_train,y_train,x_test,ids_test=load_data('train.csv','test.csv')\n",
    "y_train,x_train=retrieve_subset(y_train, x_train, num_obs=2500, set_seed=1)\n",
    "degrees=np.arange(1,20)\n",
    "k_fold=5\n",
    "lambdas=np.logspace(-10,-7)\n",
    "seed=1\n",
    "logistic_type=0\n",
    "#mat=cross_validation_logistic_demo(y_train,x_train,degrees,k_fold,lambdas,seed,logistic_type, max_iter=1000, threshold=1e-8)"
   ]
  },
  {
   "cell_type": "code",
   "execution_count": 5,
   "metadata": {
    "collapsed": true
   },
   "outputs": [],
   "source": [
    "x_train_cleaned,nmc_tr=cleaning_function(x_train,-999)\n",
    "# Feature augmentation\n",
    "degree_=2\n",
    "x_train_cleaned,noaf=features_augmentation(x_train_cleaned,not_augm_features=nmc_tr+1)\n",
    "phi_train = build_polinomial(x_train_cleaned,degree_,not_poly_features=noaf+nmc_tr+1,nm=-999,already_cleaned=True)\n",
    "phi_train=norm_data(phi_train,not_norm_features=nmc_tr+1,skip_first_col=True)\n",
    "phi_train = norm_max(phi_train)"
   ]
  },
  {
   "cell_type": "code",
   "execution_count": 6,
   "metadata": {},
   "outputs": [
    {
     "name": "stdout",
     "output_type": "stream",
     "text": [
      "(2500, 30)\n",
      "(2500,)\n"
     ]
    }
   ],
   "source": [
    "max_iter=1000\n",
    "threshold=1e-7\n",
    "gamma=1e-6\n",
    "print(x_train.shape)\n",
    "print(y_train.shape)\n",
    "w,loss=logistic_regression_newton_method_demo(y_train, x_train, max_iter, threshold, gamma)"
   ]
  },
  {
   "cell_type": "code",
   "execution_count": 7,
   "metadata": {},
   "outputs": [
    {
     "data": {
      "text/plain": [
       "1732.062805227566"
      ]
     },
     "execution_count": 7,
     "metadata": {},
     "output_type": "execute_result"
    }
   ],
   "source": [
    "w\n",
    "loss"
   ]
  },
  {
   "cell_type": "code",
   "execution_count": 8,
   "metadata": {},
   "outputs": [
    {
     "data": {
      "text/plain": [
       "array([[ 2.38866884e-08],\n",
       "       [-1.46228300e-05],\n",
       "       [-1.26550218e-05],\n",
       "       [-8.53610025e-07],\n",
       "       [-5.88864691e-05],\n",
       "       [ 5.32108868e-07],\n",
       "       [-8.80091631e-05],\n",
       "       [ 6.36387633e-04],\n",
       "       [ 1.23201349e-06],\n",
       "       [-4.51482361e-02],\n",
       "       [-3.59388715e-04],\n",
       "       [ 1.94617335e-04],\n",
       "       [ 2.29123501e-04],\n",
       "       [ 4.51678816e-02],\n",
       "       [-4.19539062e-05],\n",
       "       [-4.55810459e-06],\n",
       "       [ 4.51746156e-02],\n",
       "       [ 3.30686057e-05],\n",
       "       [-5.57811964e-05],\n",
       "       [ 7.77952536e-06],\n",
       "       [-8.35288126e-06],\n",
       "       [-2.71910660e-06],\n",
       "       [-6.99965908e-04],\n",
       "       [-1.36939834e-06],\n",
       "       [-6.34787443e-06],\n",
       "       [ 8.76540519e-06],\n",
       "       [-7.14599959e-07],\n",
       "       [-3.34114696e-05],\n",
       "       [-4.78383026e-05],\n",
       "       [ 4.51498565e-02]])"
      ]
     },
     "execution_count": 8,
     "metadata": {},
     "output_type": "execute_result"
    }
   ],
   "source": [
    "w"
   ]
  },
  {
   "cell_type": "code",
   "execution_count": null,
   "metadata": {
    "collapsed": true
   },
   "outputs": [],
   "source": []
  }
 ],
 "metadata": {
  "kernelspec": {
   "display_name": "Python 3",
   "language": "python",
   "name": "python3"
  },
  "language_info": {
   "codemirror_mode": {
    "name": "ipython",
    "version": 3
   },
   "file_extension": ".py",
   "mimetype": "text/x-python",
   "name": "python",
   "nbconvert_exporter": "python",
   "pygments_lexer": "ipython3",
   "version": "3.6.1"
  }
 },
 "nbformat": 4,
 "nbformat_minor": 2
}
