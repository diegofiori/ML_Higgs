{
 "cells": [
  {
   "cell_type": "markdown",
   "metadata": {},
   "source": [
    "# Project 1: Higgs Boson Detection"
   ]
  },
  {
   "cell_type": "code",
   "execution_count": 1,
   "metadata": {
    "collapsed": false
   },
   "outputs": [],
   "source": [
    "import numpy as np\n",
    "from regression_tools import * \n",
    "import matplotlib.pyplot as plt"
   ]
  },
  {
   "cell_type": "markdown",
   "metadata": {},
   "source": [
    "## Loading files"
   ]
  },
  {
   "cell_type": "code",
   "execution_count": 9,
   "metadata": {
    "collapsed": false
   },
   "outputs": [],
   "source": [
    "with open('test.csv') as csv_file_test:\n",
    "    test_reader=csv.reader(csv_file_test,delimiter=',')\n",
    "    test_list=[]\n",
    "    for row in test_reader:\n",
    "        test_list.append(row)\n",
    "    y_test=[]\n",
    "    x_test_list=[]\n",
    "    for test_row in test_list:\n",
    "        y_test.append(test_row[1])\n",
    "        test_row.pop(1)\n",
    "        x_test_list.append(test_row)\n",
    "    x_test=np.array(x_test_list)"
   ]
  },
  {
   "cell_type": "code",
   "execution_count": 10,
   "metadata": {
    "collapsed": false
   },
   "outputs": [
    {
     "data": {
      "text/plain": [
       "(568239, 31)"
      ]
     },
     "execution_count": 10,
     "metadata": {},
     "output_type": "execute_result"
    }
   ],
   "source": [
    "x_test.shape"
   ]
  },
  {
   "cell_type": "code",
   "execution_count": 33,
   "metadata": {
    "collapsed": true
   },
   "outputs": [],
   "source": [
    "def load_data(train_path,test_path):\n",
    "    train_reader=np.genfromtxt(train_path,delimiter=',',missing_values=-999)\n",
    "    train_list=[]\n",
    "    for row in train_reader:\n",
    "        train_list.append(row)\n",
    "    y_train_bool=[]\n",
    "    x_train_l=[]\n",
    "    for train_row in train_list:\n",
    "        train_row=np.ndarray.tolist(train_row)\n",
    "        y_train_bool.append(train_row[1]=='b')\n",
    "        train_row.pop(1)\n",
    "        x_train_l.append(train_row)\n",
    "    Data_structure_X=x_train_l[0]\n",
    "    x_train_l.pop(0)\n",
    "    y_train_bool.pop(0)\n",
    "    x_train=np.array(x_train_l)\n",
    "    y_train=np.array(y_train_bool)\n",
    "    \n",
    "    \n",
    "    test_reader=np.genfromtxt(test_path,delimiter=',')\n",
    "    test_list=[]\n",
    "    for row in test_reader:\n",
    "        test_list.append(row)\n",
    "    #y_test_l=[]\n",
    "    x_test_l=[]\n",
    "    for test_row in test_list:\n",
    "        test_row=np.ndarray.tolist(test_row)\n",
    "        #y_test_l.append(test_row[1])\n",
    "        test_row.pop(1)\n",
    "        x_test_l.append(test_row)\n",
    "    x_test_l.pop(0)\n",
    "    #y_test_l.pop(0)\n",
    "    #y_test_bool=[y_test_l[:]==a]\n",
    "    x_test=np.array(x_test_l)\n",
    "    #y_test=np.array(y_test_bool)\n",
    "    return x_train,y_train,x_test,Data_structure_X\n",
    "        "
   ]
  },
  {
   "cell_type": "code",
   "execution_count": 181,
   "metadata": {
    "collapsed": true
   },
   "outputs": [],
   "source": [
    "train_reader=np.genfromtxt('train.csv',delimiter=',',dtype=None,skip_header=1)\n",
    "train_reader=np.ndarray.tolist(train_reader)\n"
   ]
  },
  {
   "cell_type": "code",
   "execution_count": 182,
   "metadata": {
    "collapsed": false
   },
   "outputs": [
    {
     "data": {
      "text/plain": [
       "list"
      ]
     },
     "execution_count": 182,
     "metadata": {},
     "output_type": "execute_result"
    }
   ],
   "source": [
    "type(train_reader)"
   ]
  },
  {
   "cell_type": "code",
   "execution_count": 163,
   "metadata": {
    "collapsed": false
   },
   "outputs": [],
   "source": [
    "a=np.array(train_reader)[:,2:]"
   ]
  },
  {
   "cell_type": "code",
   "execution_count": null,
   "metadata": {
    "collapsed": true
   },
   "outputs": [],
   "source": []
  },
  {
   "cell_type": "code",
   "execution_count": null,
   "metadata": {
    "collapsed": true
   },
   "outputs": [],
   "source": []
  },
  {
   "cell_type": "code",
   "execution_count": 170,
   "metadata": {
    "collapsed": false
   },
   "outputs": [],
   "source": [
    "b=a.astype(np.float)"
   ]
  },
  {
   "cell_type": "code",
   "execution_count": 171,
   "metadata": {
    "collapsed": false
   },
   "outputs": [
    {
     "data": {
      "text/plain": [
       "array([[ 138.47 ,   51.655,   97.827, ...,    1.24 ,   -2.475,  113.497],\n",
       "       [ 160.937,   68.768,  103.235, ..., -999.   , -999.   ,   46.226],\n",
       "       [-999.   ,  162.172,  125.953, ..., -999.   , -999.   ,   44.251],\n",
       "       ..., \n",
       "       [ 105.457,   60.526,   75.839, ..., -999.   , -999.   ,   41.992],\n",
       "       [  94.951,   19.362,   68.812, ..., -999.   , -999.   ,    0.   ],\n",
       "       [-999.   ,   72.756,   70.831, ..., -999.   , -999.   ,    0.   ]])"
      ]
     },
     "execution_count": 171,
     "metadata": {},
     "output_type": "execute_result"
    }
   ],
   "source": [
    "b"
   ]
  },
  {
   "cell_type": "code",
   "execution_count": null,
   "metadata": {
    "collapsed": true
   },
   "outputs": [],
   "source": []
  },
  {
   "cell_type": "code",
   "execution_count": 152,
   "metadata": {
    "collapsed": false
   },
   "outputs": [],
   "source": [
    "dt=np.dtype('float,object'+30*',float')\n",
    "xar=np.array(train_reader,dtype=dt)"
   ]
  },
  {
   "cell_type": "code",
   "execution_count": null,
   "metadata": {
    "collapsed": true
   },
   "outputs": [],
   "source": []
  },
  {
   "cell_type": "code",
   "execution_count": 2,
   "metadata": {
    "collapsed": true
   },
   "outputs": [],
   "source": [
    "def load_data(train_path,test_path):\n",
    "    train_reader=np.genfromtxt(train_path,delimiter=',',skip_header=1,converters={1:lambda s: float(0) if s==b'b' else float(1)})\n",
    "    y_train=train_reader[:,1]\n",
    "    x_train=train_reader[:,2:]\n",
    "    test_reader=np.genfromtxt(test_path,delimiter=',')\n",
    "    x_test=test_reader[:,2:]\n",
    "    return x_train,y_train,x_test"
   ]
  },
  {
   "cell_type": "code",
   "execution_count": 27,
   "metadata": {
    "collapsed": false
   },
   "outputs": [],
   "source": [
    " x_train,y_train,x_test=load_data('train.csv','test.csv')"
   ]
  },
  {
   "cell_type": "code",
   "execution_count": 207,
   "metadata": {
    "collapsed": true
   },
   "outputs": [],
   "source": []
  },
  {
   "cell_type": "code",
   "execution_count": 33,
   "metadata": {
    "collapsed": true
   },
   "outputs": [],
   "source": []
  },
  {
   "cell_type": "code",
   "execution_count": 38,
   "metadata": {
    "collapsed": false
   },
   "outputs": [
    {
     "data": {
      "image/png": "[encoded data removed]",
      "text/plain": [
       "<matplotlib.figure.Figure at 0x1082e7f28>"
      ]
     },
     "metadata": {},
     "output_type": "display_data"
    }
   ],
   "source": [
    "# to do: implement cross validation\n",
    "results=[]\n",
    "for j in range(1,12):\n",
    "    phi_train=build_polinomial(x_train,j,nmc_tr)\n",
    "    loss,w=least_squares(y_train,phi_train)\n",
    "    result=(y_train==(phi_train.dot(w)>0.5)).sum()/y_train.shape[0]\n",
    "    results.append(result)\n",
    "plt.figure\n",
    "plt.plot(range(1,12),results)\n",
    "plt.xlabel('degree')\n",
    "plt.ylabel('train accuracy')\n",
    "plt.show()"
   ]
  },
  {
   "cell_type": "code",
   "execution_count": 37,
   "metadata": {
    "collapsed": false
   },
   "outputs": [
    {
     "data": {
      "image/png": "[encoded data removed]",
      "text/plain": [
       "<matplotlib.figure.Figure at 0x106de7c50>"
      ]
     },
     "metadata": {},
     "output_type": "display_data"
    }
   ],
   "source": [
    "plt.show()"
   ]
  },
  {
   "cell_type": "code",
   "execution_count": 7,
   "metadata": {
    "collapsed": true
   },
   "outputs": [],
   "source": [
    "def nan_converter(x,nm=-999,direction=True):\n",
    "    \"\"\"convert the not measured elements of the matrix in nan, \n",
    "    if direction=False the opposite conversion is made\"\"\"\n",
    "    if direction:\n",
    "        inds=np.where(x[:,:]==nm)\n",
    "        x[inds]=np.nan\n",
    "    else:\n",
    "        inds=np.where(np.isnan(x))\n",
    "        x[inds]=nm\n",
    "    return x\n",
    "        "
   ]
  },
  {
   "cell_type": "code",
   "execution_count": 5,
   "metadata": {
    "collapsed": true
   },
   "outputs": [],
   "source": [
    "def find_cluster(x_bool):\n",
    "    v_bool=x_bool.sum(0)\n",
    "    nb_cluster=0\n",
    "    index_clusters=[]\n",
    "    while np.max(v_bool)>0:\n",
    "        index_clusters.append(np.argmax(v_bool))\n",
    "        nb_cluster+=1\n",
    "        v_bool=v_bool*(v_bool[:]!=np.max(v_bool))\n",
    "    return nb_cluster, index_clusters"
   ]
  },
  {
   "cell_type": "code",
   "execution_count": 17,
   "metadata": {
    "collapsed": true
   },
   "outputs": [],
   "source": [
    "def cleaning_function(x,nm=-999):\n",
    "    # nm= not_measured\n",
    "    x_bool=x[:,:]==nm\n",
    "    nb_cluster,index_clusters=find_cluster(x_bool)\n",
    "    v=x[:,index_clusters]!=nm\n",
    "    x=np.concatenate((x,v,(np.prod(v,axis=1)).reshape(-1,1)),axis=1)\n",
    "    inds=np.where(x_bool)\n",
    "    x[inds]=np.nan\n",
    "    col_mean=np.nanmean(x,axis=0)\n",
    "    x[inds]=np.take(col_mean,inds[1])\n",
    "    return x,nb_cluster"
   ]
  },
  {
   "cell_type": "code",
   "execution_count": 24,
   "metadata": {
    "collapsed": true
   },
   "outputs": [],
   "source": [
    "def build_polinomial(x,degree,not_poly_features=0,nm=-999):\n",
    "    \"\"\"create polynomial features until specified degree. It doesn't \n",
    "    compute the power of the last n columns of the metrix, n specified in \n",
    "    not_poly_features\"\"\"\n",
    "    x=nan_converter(x,nm=nm,direction=True)\n",
    "    phi_list=[np.ones(x.shape[0]).reshape(-1,1)]\n",
    "    # is it possible to avoid the loop?\n",
    "    for i in range(1,degree+1):\n",
    "        phi_list.append(np.power(x[:,0:x.shape[1]-1-not_poly_features],i))\n",
    "    if not_poly_features>0:\n",
    "        phi_list.append(x[:,x.shape[1]-1-not_poly_features:])\n",
    "    phi=np.concatenate(phi_list,axis=1)\n",
    "    phi=nan_converter(phi,nm=nm,direction=False)\n",
    "    return phi"
   ]
  },
  {
   "cell_type": "code",
   "execution_count": 28,
   "metadata": {
    "collapsed": false
   },
   "outputs": [],
   "source": [
    "x_train,nmc_tr=cleaning_function(x_train,-999)\n",
    "#x_test,nmc_te=cleaning_function(x_test,-999)\n",
    "# nmc= nb of not measured column, i.e. columns where \n",
    "#it is present at least one not measured element\n",
    "phi_train=build_polinomial(x_train,4,nmc_tr)"
   ]
  },
  {
   "cell_type": "code",
   "execution_count": 277,
   "metadata": {
    "collapsed": false
   },
   "outputs": [
    {
     "name": "stdout",
     "output_type": "stream",
     "text": [
      "[  1.10539000e+02   2.82000000e+00   6.21360000e+01   1.79753000e+02\n",
      "   3.25600000e+00   3.37201000e+02  -2.05900000e+00   1.09200000e+00\n",
      "   2.70180000e+01   2.96802000e+02   3.11000000e-01   1.06700000e+00\n",
      "   9.99000000e-01   1.07140000e+02   6.76000000e-01  -1.82600000e+00\n",
      "   3.33680000e+01   7.20000000e-01  -7.34000000e-01   6.73250000e+01\n",
      "  -7.94000000e-01   3.61566000e+02   2.00000000e+00   1.15867000e+02\n",
      "  -8.59000000e-01   1.96100000e+00   4.04270000e+01   2.39700000e+00\n",
      "   1.47900000e+00   1.56294000e+02   1.00000000e+00   1.00000000e+00\n",
      "   1.00000000e+00   1.00000000e+00]\n"
     ]
    }
   ],
   "source": [
    "print(x_test[10])"
   ]
  },
  {
   "cell_type": "code",
   "execution_count": 249,
   "metadata": {
    "collapsed": false
   },
   "outputs": [
    {
     "data": {
      "text/plain": [
       "1"
      ]
     },
     "execution_count": 249,
     "metadata": {},
     "output_type": "execute_result"
    }
   ],
   "source": [
    "a=0\n",
    "a=a+1\n",
    "a"
   ]
  },
  {
   "cell_type": "code",
   "execution_count": 48,
   "metadata": {
    "collapsed": false
   },
   "outputs": [],
   "source": [
    "? np.genfromtxt()"
   ]
  },
  {
   "cell_type": "code",
   "execution_count": 213,
   "metadata": {
    "collapsed": false
   },
   "outputs": [
    {
     "data": {
      "text/plain": [
       "nan"
      ]
     },
     "execution_count": 213,
     "metadata": {},
     "output_type": "execute_result"
    }
   ],
   "source": [
    "np.nan"
   ]
  },
  {
   "cell_type": "code",
   "execution_count": 212,
   "metadata": {
    "collapsed": true
   },
   "outputs": [],
   "source": [
    "? np.mean"
   ]
  },
  {
   "cell_type": "code",
   "execution_count": 244,
   "metadata": {
    "collapsed": true
   },
   "outputs": [],
   "source": [
    "? np.argmin"
   ]
  },
  {
   "cell_type": "code",
   "execution_count": 14,
   "metadata": {
    "collapsed": false
   },
   "outputs": [
    {
     "name": "stdout",
     "output_type": "stream",
     "text": [
      "[[1 1]\n",
      " [2 2]\n",
      " [3 3]\n",
      " [4 4]\n",
      " [5 5]]\n"
     ]
    }
   ],
   "source": [
    "a=np.array([1,2,3,4,5])\n",
    "b=np.concatenate([a.reshape(-1,1),a.reshape(-1,1)],axis=1)\n",
    "print(b)"
   ]
  },
  {
   "cell_type": "code",
   "execution_count": null,
   "metadata": {
    "collapsed": true
   },
   "outputs": [],
   "source": []
  }
 ],
 "metadata": {
  "kernelspec": {
   "display_name": "Python 3",
   "language": "python",
   "name": "python3"
  },
  "language_info": {
   "codemirror_mode": {
    "name": "ipython",
    "version": 3
   },
   "file_extension": ".py",
   "mimetype": "text/x-python",
   "name": "python",
   "nbconvert_exporter": "python",
   "pygments_lexer": "ipython3",
   "version": "3.6.0"
  }
 },
 "nbformat": 4,
 "nbformat_minor": 2
}
