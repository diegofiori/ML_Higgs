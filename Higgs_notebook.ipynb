{
 "cells": [
  {
   "cell_type": "markdown",
   "metadata": {},
   "source": [
    "# Project 1: Higgs Boson Detection"
   ]
  },
  {
   "cell_type": "code",
   "execution_count": null,
   "metadata": {},
   "outputs": [],
   "source": [
    "import numpy as np\n",
    "from load_data import load_data\n",
    "from preprocessing import *\n",
    "from cross_validation_logistic import *\n",
    "from cross_validation_ridge import plot_cross_validation\n",
    "\n",
    "\n",
    "# Load data\n",
    "x_train,y_train,x_test,ids_test=load_data('train.csv','test.csv')\n",
    "\n",
    "# Set parameter values\n",
    "degrees=np.arange(1,12)\n",
    "k_fold=4\n",
    "gammas=np.logspace(-10,-7,5)\n",
    "seed=5\n",
    "logistic_type=0\n",
    "\n",
    "# Cross validation to find best gamma and best degree\n",
    "mat=cross_validation_logistic_demo(y_train,x_train,degrees,k_fold,gammas,seed,logistic_type, max_iter=1000, threshold=1e-8)\n",
    "plot_cross_validation(gammas,mat,degrees,'logistic_gradient_descent')\n",
    "best_deg_ind=np.min(np.argmax(np.max(mat,axis=0)))\n",
    "best_gamma_ind=np.max(np.argmax(mat[:,best_deg_ind]))\n",
    "\n",
    "# Now train the model on the whole dataset\n",
    "\n",
    "# Clean and transform train data\n",
    "x_train_cleaned,nmc_tr=cleaning_function(x_train,-999)\n",
    "x_train_cleaned,noaf=features_augmentation(x_train_cleaned,not_augm_features=nmc_tr+1)\n",
    "phi_train=build_polinomial(x_train_cleaned,degree=degrees[best_deg_ind],not_poly_features=noaf+nmc_tr+1,nm=-999,already_cleaned=True)\n",
    "phi_train=norm_data(phi_train,not_norm_features=nmc_tr+1,skip_first_col=True)\n",
    "\n",
    "# Clean and transform test data\n",
    "x_test_cleaned,nmc_te=cleaning_function(x_test,-999)\n",
    "x_test_cleaned,noaf=features_augmentation(x_test_cleaned,not_augm_features=nmc_te+1)\n",
    "phi_test=build_polinomial(x_test_cleaned,degree=degrees[best_deg_ind],not_poly_features=noaf+nmc_te+1,nm=-999,already_cleaned=True)\n",
    "phi_test=norm_data(phi_test,not_norm_features=nmc_te+1,skip_first_col=True)\n",
    "\n",
    "# Calculate the best w training on the whole dataset\n",
    "initial_w = np.zeros(phi_train.shape[1])\n",
    "w,loss=logistic_regression(y_train, phi_train, initial_w ,1000, gamma=gammas[best_gamma_ind])\n",
    "\n",
    "# Calculate result on the train sample\n",
    "result=(y_train==(sigmoid(phi_train.dot(w))>0.5)).sum()/y_train.shape[0]\n"
   ]
  },
  {
   "cell_type": "markdown",
   "metadata": {},
   "source": [
    "## Loading files"
   ]
  },
  {
   "cell_type": "code",
   "execution_count": 9,
   "metadata": {},
   "outputs": [],
   "source": [
    "with open('test.csv') as csv_file_test:\n",
    "    test_reader=csv.reader(csv_file_test,delimiter=',')\n",
    "    test_list=[]\n",
    "    for row in test_reader:\n",
    "        test_list.append(row)\n",
    "    y_test=[]\n",
    "    x_test_list=[]\n",
    "    for test_row in test_list:\n",
    "        y_test.append(test_row[1])\n",
    "        test_row.pop(1)\n",
    "        x_test_list.append(test_row)\n",
    "    x_test=np.array(x_test_list)"
   ]
  },
  {
   "cell_type": "code",
   "execution_count": 10,
   "metadata": {},
   "outputs": [
    {
     "data": {
      "text/plain": [
       "(568239, 31)"
      ]
     },
     "execution_count": 10,
     "metadata": {},
     "output_type": "execute_result"
    }
   ],
   "source": [
    "x_test.shape"
   ]
  },
  {
   "cell_type": "code",
   "execution_count": 33,
   "metadata": {
    "collapsed": true
   },
   "outputs": [],
   "source": [
    "def load_data(train_path,test_path):\n",
    "    train_reader=np.genfromtxt(train_path,delimiter=',',missing_values=-999)\n",
    "    train_list=[]\n",
    "    for row in train_reader:\n",
    "        train_list.append(row)\n",
    "    y_train_bool=[]\n",
    "    x_train_l=[]\n",
    "    for train_row in train_list:\n",
    "        train_row=np.ndarray.tolist(train_row)\n",
    "        y_train_bool.append(train_row[1]=='b')\n",
    "        train_row.pop(1)\n",
    "        x_train_l.append(train_row)\n",
    "    Data_structure_X=x_train_l[0]\n",
    "    x_train_l.pop(0)\n",
    "    y_train_bool.pop(0)\n",
    "    x_train=np.array(x_train_l)\n",
    "    y_train=np.array(y_train_bool)\n",
    "    \n",
    "    \n",
    "    test_reader=np.genfromtxt(test_path,delimiter=',')\n",
    "    test_list=[]\n",
    "    for row in test_reader:\n",
    "        test_list.append(row)\n",
    "    #y_test_l=[]\n",
    "    x_test_l=[]\n",
    "    for test_row in test_list:\n",
    "        test_row=np.ndarray.tolist(test_row)\n",
    "        #y_test_l.append(test_row[1])\n",
    "        test_row.pop(1)\n",
    "        x_test_l.append(test_row)\n",
    "    x_test_l.pop(0)\n",
    "    #y_test_l.pop(0)\n",
    "    #y_test_bool=[y_test_l[:]==a]\n",
    "    x_test=np.array(x_test_l)\n",
    "    #y_test=np.array(y_test_bool)\n",
    "    return x_train,y_train,x_test,Data_structure_X\n",
    "        "
   ]
  },
  {
   "cell_type": "code",
   "execution_count": 181,
   "metadata": {
    "collapsed": true
   },
   "outputs": [],
   "source": [
    "train_reader=np.genfromtxt('train.csv',delimiter=',',dtype=None,skip_header=1)\n",
    "train_reader=np.ndarray.tolist(train_reader)\n"
   ]
  },
  {
   "cell_type": "code",
   "execution_count": 182,
   "metadata": {},
   "outputs": [
    {
     "data": {
      "text/plain": [
       "list"
      ]
     },
     "execution_count": 182,
     "metadata": {},
     "output_type": "execute_result"
    }
   ],
   "source": [
    "type(train_reader)"
   ]
  },
  {
   "cell_type": "code",
   "execution_count": 163,
   "metadata": {},
   "outputs": [],
   "source": [
    "a=np.array(train_reader)[:,2:]"
   ]
  },
  {
   "cell_type": "code",
   "execution_count": null,
   "metadata": {
    "collapsed": true
   },
   "outputs": [],
   "source": []
  },
  {
   "cell_type": "code",
   "execution_count": null,
   "metadata": {
    "collapsed": true
   },
   "outputs": [],
   "source": []
  },
  {
   "cell_type": "code",
   "execution_count": 170,
   "metadata": {},
   "outputs": [],
   "source": [
    "b=a.astype(np.float)"
   ]
  },
  {
   "cell_type": "code",
   "execution_count": 171,
   "metadata": {},
   "outputs": [
    {
     "data": {
      "text/plain": [
       "array([[ 138.47 ,   51.655,   97.827, ...,    1.24 ,   -2.475,  113.497],\n",
       "       [ 160.937,   68.768,  103.235, ..., -999.   , -999.   ,   46.226],\n",
       "       [-999.   ,  162.172,  125.953, ..., -999.   , -999.   ,   44.251],\n",
       "       ..., \n",
       "       [ 105.457,   60.526,   75.839, ..., -999.   , -999.   ,   41.992],\n",
       "       [  94.951,   19.362,   68.812, ..., -999.   , -999.   ,    0.   ],\n",
       "       [-999.   ,   72.756,   70.831, ..., -999.   , -999.   ,    0.   ]])"
      ]
     },
     "execution_count": 171,
     "metadata": {},
     "output_type": "execute_result"
    }
   ],
   "source": [
    "b"
   ]
  },
  {
   "cell_type": "code",
   "execution_count": null,
   "metadata": {
    "collapsed": true
   },
   "outputs": [],
   "source": []
  },
  {
   "cell_type": "code",
   "execution_count": 152,
   "metadata": {},
   "outputs": [],
   "source": [
    "dt=np.dtype('float,object'+30*',float')\n",
    "xar=np.array(train_reader,dtype=dt)"
   ]
  },
  {
   "cell_type": "code",
   "execution_count": null,
   "metadata": {
    "collapsed": true
   },
   "outputs": [],
   "source": []
  },
  {
   "cell_type": "code",
   "execution_count": 4,
   "metadata": {},
   "outputs": [],
   "source": [
    "def load_data(train_path,test_path):\n",
    "    train_reader=np.genfromtxt(train_path,delimiter=',',skip_header=1,converters={1:lambda s: float(0) if s==b'b' else float(1)})\n",
    "    y_train=train_reader[:,1]\n",
    "    x_train=train_reader[:,2:]\n",
    "    test_reader=np.genfromtxt(test_path,delimiter=',')\n",
    "    x_test=test_reader[:,2:]\n",
    "    return x_train,y_train,x_test"
   ]
  },
  {
   "cell_type": "code",
   "execution_count": 96,
   "metadata": {},
   "outputs": [],
   "source": [
    " x_train,y_train,x_test=load_data('train.csv','test.csv')"
   ]
  },
  {
   "cell_type": "code",
   "execution_count": 8,
   "metadata": {},
   "outputs": [
    {
     "data": {
      "text/plain": [
       "array([[ 138.47 ,   51.655,   97.827, ...,    1.24 ,   -2.475,  113.497],\n",
       "       [ 160.937,   68.768,  103.235, ..., -999.   , -999.   ,   46.226],\n",
       "       [-999.   ,  162.172,  125.953, ..., -999.   , -999.   ,   44.251],\n",
       "       ...,\n",
       "       [ 105.457,   60.526,   75.839, ..., -999.   , -999.   ,   41.992],\n",
       "       [  94.951,   19.362,   68.812, ..., -999.   , -999.   ,    0.   ],\n",
       "       [-999.   ,   72.756,   70.831, ..., -999.   , -999.   ,    0.   ]])"
      ]
     },
     "execution_count": 8,
     "metadata": {},
     "output_type": "execute_result"
    }
   ],
   "source": [
    "x_train"
   ]
  },
  {
   "cell_type": "code",
   "execution_count": 33,
   "metadata": {
    "collapsed": true
   },
   "outputs": [],
   "source": []
  },
  {
   "cell_type": "code",
   "execution_count": 38,
   "metadata": {},
   "outputs": [
    {
     "data": {
      "image/png": "[encoded data removed]",
      "text/plain": [
       "<matplotlib.figure.Figure at 0x1082e7f28>"
      ]
     },
     "metadata": {},
     "output_type": "display_data"
    }
   ],
   "source": [
    "# to do: implement cross validation\n",
    "results=[]\n",
    "for j in range(1,12):\n",
    "    phi_train=build_polinomial(x_train,j,nmc_tr)\n",
    "    loss,w=least_squares(y_train,phi_train)\n",
    "    result=(y_train==(phi_train.dot(w)>0.5)).sum()/y_train.shape[0]\n",
    "    results.append(result)\n",
    "plt.figure\n",
    "plt.plot(range(1,12),results)\n",
    "plt.xlabel('degree')\n",
    "plt.ylabel('train accuracy')\n",
    "plt.show()"
   ]
  },
  {
   "cell_type": "code",
   "execution_count": 37,
   "metadata": {},
   "outputs": [
    {
     "data": {
      "image/png": "[encoded data removed]",
      "text/plain": [
       "<matplotlib.figure.Figure at 0x106de7c50>"
      ]
     },
     "metadata": {},
     "output_type": "display_data"
    }
   ],
   "source": [
    "plt.show()"
   ]
  },
  {
   "cell_type": "code",
   "execution_count": 10,
   "metadata": {},
   "outputs": [],
   "source": [
    "def nan_converter(x,nm=-999,direction=True):\n",
    "    \"\"\"convert the not measured elements of the matrix in nan, \n",
    "    if direction=False the opposite conversion is made\"\"\"\n",
    "    if direction:\n",
    "        inds=np.where(x[:,:]==nm)\n",
    "        x[inds]=np.nan\n",
    "    else:\n",
    "        inds=np.where(np.isnan(x))\n",
    "        x[inds]=nm\n",
    "    return x\n",
    "        "
   ]
  },
  {
   "cell_type": "code",
   "execution_count": 11,
   "metadata": {},
   "outputs": [],
   "source": [
    "def find_cluster(x_bool):\n",
    "    v_bool=x_bool.sum(0)\n",
    "    nb_cluster=0\n",
    "    index_clusters=[]\n",
    "    while np.max(v_bool)>0:\n",
    "        index_clusters.append(np.argmax(v_bool))\n",
    "        nb_cluster+=1\n",
    "        v_bool=v_bool*(v_bool[:]!=np.max(v_bool))\n",
    "    return nb_cluster, index_clusters"
   ]
  },
  {
   "cell_type": "code",
   "execution_count": 12,
   "metadata": {},
   "outputs": [],
   "source": [
    "def cleaning_function(x,nm=-999):\n",
    "    # nm= not_measured\n",
    "    x_bool=x[:,:]==nm\n",
    "    nb_cluster,index_clusters=find_cluster(x_bool)\n",
    "    v=x[:,index_clusters]!=nm\n",
    "    x=np.concatenate((x,v,(np.prod(v,axis=1)).reshape(-1,1)),axis=1)\n",
    "    inds=np.where(x_bool)\n",
    "    x[inds]=np.nan\n",
    "    col_mean=np.nanmean(x,axis=0)\n",
    "    x[inds]=np.take(col_mean,inds[1])\n",
    "    return x,nb_cluster"
   ]
  },
  {
   "cell_type": "code",
   "execution_count": 13,
   "metadata": {},
   "outputs": [],
   "source": [
    "def build_polinomial(x,degree,not_poly_features=0,nm=-999):\n",
    "    \"\"\"create polynomial features until specified degree. It doesn't \n",
    "    compute the power of the last n columns of the metrix, n specified in \n",
    "    not_poly_features\"\"\"\n",
    "    x=nan_converter(x,nm=nm,direction=True)\n",
    "    phi_list=[np.ones(x.shape[0]).reshape(-1,1)]\n",
    "    # is it possible to avoid the loop?\n",
    "    for i in range(1,degree+1):\n",
    "        phi_list.append(np.power(x[:,0:x.shape[1]-1-not_poly_features],i))\n",
    "    if not_poly_features>0:\n",
    "        phi_list.append(x[:,x.shape[1]-1-not_poly_features:])\n",
    "    phi=np.concatenate(phi_list,axis=1)\n",
    "    phi=nan_converter(phi,nm=nm,direction=False)\n",
    "    return phi"
   ]
  },
  {
   "cell_type": "code",
   "execution_count": 14,
   "metadata": {},
   "outputs": [],
   "source": [
    "#x_train,nmc_tr=cleaning_function(x_train,-999)\n",
    "#x_test,nmc_te=cleaning_function(x_test,-999)\n",
    "# nmc= nb of not measured column, i.e. columns where \n",
    "#it is present at least one not measured element\n",
    "#phi_train=build_polinomial(x_train,4,nmc_tr)"
   ]
  },
  {
   "cell_type": "code",
   "execution_count": 18,
   "metadata": {},
   "outputs": [
    {
     "name": "stdout",
     "output_type": "stream",
     "text": [
      "[ 1.00000000e+00  1.43905000e+02  8.14170000e+01  8.09430000e+01\n",
      "  4.14000000e-01  2.40373503e+00  3.71783360e+02 -8.21688171e-01\n",
      "  3.31000000e+00  4.14000000e-01  7.59680000e+01  2.35400000e+00\n",
      " -1.28500000e+00  4.58289801e-01  2.26470000e+01 -1.65500000e+00\n",
      "  1.00000000e-02  5.33210000e+01 -5.22000000e-01 -3.10000000e+00\n",
      "  3.10820000e+01  6.00000000e-02  8.60620000e+01  0.00000000e+00\n",
      "  8.48221045e+01 -3.27458741e-03 -1.23928255e-02  5.76794744e+01\n",
      " -1.18452642e-02 -1.58228913e-03  0.00000000e+00  2.07086490e+04\n",
      "  6.62872789e+03  6.55176925e+03  1.71396000e-01  5.77794208e+00\n",
      "  1.38222867e+05  6.75171451e-01  1.09561000e+01  1.71396000e-01\n",
      "  5.77113702e+03  5.54131600e+00  1.65122500e+00  2.10029541e-01\n",
      "  5.12886609e+02  2.73902500e+00  1.00000000e-04  2.84312904e+03\n",
      "  2.72484000e-01  9.61000000e+00  9.66090724e+02  3.60000000e-03\n",
      "  7.40666784e+03  0.00000000e+00  7.19478942e+03  1.07229227e-05\n",
      "  1.53582124e-04  3.32692177e+03  1.40310284e-04  2.50363888e-06\n",
      "  0.00000000e+00  2.98007814e+06  5.39691139e+05  5.30319858e+05\n",
      "  7.09579440e-02  1.38886417e+01  5.13889620e+07 -5.54780394e-01\n",
      "  3.62646910e+01  7.09579440e-02  4.38421737e+05  1.30442579e+01\n",
      " -2.12182412e+00  9.62543966e-02  1.16153430e+04 -4.53308637e+00\n",
      "  1.00000000e-06  1.51598484e+05 -1.42236648e-01 -2.97910000e+01\n",
      "  3.00280319e+04  2.16000000e-04  6.37432648e+05  0.00000000e+00\n",
      "  6.10277180e+05 -3.51131476e-08 -1.90331646e-06  1.91895099e+05\n",
      " -1.66201238e-06 -3.96148057e-09  0.00000000e+00  4.28848144e+08\n",
      "  4.39400334e+07  4.29256803e+07  2.93765888e-02  3.33846146e+01\n",
      "  1.91055610e+10  4.55856488e-01  1.20036127e+02  2.93765888e-02\n",
      "  3.33060225e+07  3.07061830e+01  2.72654400e+00  4.41124082e-02\n",
      "  2.63052674e+05  7.50225795e+00  1.00000000e-08  8.08338274e+06\n",
      "  7.42475303e-02  9.23521000e+01  9.33331287e+05  1.29600000e-05\n",
      "  5.48587286e+07  0.00000000e+00  5.17649948e+07  1.14981071e-10\n",
      "  2.35874687e-08  1.10684085e+07  1.96869757e-08  6.26820762e-12\n",
      "  0.00000000e+00  0.00000000e+00  0.00000000e+00  1.00000000e+00\n",
      "  0.00000000e+00]\n"
     ]
    }
   ],
   "source": [
    "print(phi_train[3])"
   ]
  },
  {
   "cell_type": "code",
   "execution_count": 121,
   "metadata": {},
   "outputs": [],
   "source": [
    "def build_k_indices(y, k_fold, seed):\n",
    "    \"\"\"build k indices for k-fold.\"\"\"\n",
    "    num_row = y.shape[0]\n",
    "    interval = int(num_row / k_fold)\n",
    "    np.random.seed(seed)\n",
    "    indices = np.random.permutation(num_row)\n",
    "    k_indices = [indices[k * interval: (k + 1) * interval]\n",
    "                 for k in range(k_fold)]\n",
    "    return np.array(k_indices)"
   ]
  },
  {
   "cell_type": "code",
   "execution_count": 122,
   "metadata": {},
   "outputs": [],
   "source": [
    "def cross_validation(y_train, phi_train, k_indices, k, lambda_, degree):\n",
    "    \"\"\"return the loss of ridge regression.\"\"\"\n",
    "    \"\"\"Probabilmente conviene implementare una per la regressione normale, in modo da capire \n",
    "    quale sia il grado massimo oltre il quale non ha senso andare e poi lavorare con lambda \n",
    "    per capire come eliminare feature\"\"\"\n",
    "    \n",
    "    \n",
    "    # Get k'th subgroup in test, others in train    \n",
    "    train_indices = np.delete(k_indices , k , 0)\n",
    "    x_test = phi_train[k_indices[k],:]\n",
    "    #print(phi_train.shape)\n",
    "    #print(x_test.shape)\n",
    "    x_train = phi_train[train_indices,:].reshape((k_indices.shape[0]-1) * k_indices.shape[1],phi_train.shape[1])\n",
    "    #print(x_train.shape)\n",
    "    y_test = y_train[k_indices[k]]\n",
    "    y_train = y_train[train_indices].reshape((k_indices.shape[0]-1) * k_indices.shape[1],)\n",
    "    \n",
    "    # Form data with polynomial degree\n",
    "    tx_train = build_polinomial(x_train, degree, nmc_tr)\n",
    "    tx_test = build_polinomial(x_test, degree, nmc_tr)\n",
    "    #print(tx_test.shape)\n",
    "    print(tx_train.shape)\n",
    "    #print(y_train.shape)\n",
    "    # Ridge regression / Linear regression\n",
    "    loss , w = ridge_regression(y_train, tx_train, lambda_)\n",
    "    #loss , w = least_squares(y_train,tx_train)\n",
    "    print('REGRESSION DONE')\n",
    "    #print(y_test.shape)\n",
    "    #print(w.shape)\n",
    "    \n",
    "    # Calculate results\n",
    "    result=(y_test==(tx_test.dot(w)>0.5)).sum()/y_test.shape[0]\n",
    "    print('RESULT CALCULATED')\n",
    "    return result"
   ]
  },
  {
   "cell_type": "code",
   "execution_count": 123,
   "metadata": {
    "scrolled": false
   },
   "outputs": [
    {
     "name": "stdout",
     "output_type": "stream",
     "text": [
      "DEGREE IS: \n",
      "1\n",
      "K CONSIDERED IS: \n",
      "0\n"
     ]
    },
    {
     "ename": "TypeError",
     "evalue": "cross_validation() takes 6 positional arguments but 7 were given",
     "output_type": "error",
     "traceback": [
      "\u001b[1;31m---------------------------------------------------------------------------\u001b[0m",
      "\u001b[1;31mTypeError\u001b[0m                                 Traceback (most recent call last)",
      "\u001b[1;32m<ipython-input-123-637ab4ae1944>\u001b[0m in \u001b[0;36m<module>\u001b[1;34m()\u001b[0m\n\u001b[0;32m     23\u001b[0m         \u001b[0mprint\u001b[0m\u001b[1;33m(\u001b[0m\u001b[1;34m'K CONSIDERED IS: '\u001b[0m\u001b[1;33m)\u001b[0m\u001b[1;33m\u001b[0m\u001b[0m\n\u001b[0;32m     24\u001b[0m         \u001b[0mprint\u001b[0m\u001b[1;33m(\u001b[0m\u001b[0mk\u001b[0m\u001b[1;33m)\u001b[0m\u001b[1;33m\u001b[0m\u001b[0m\n\u001b[1;32m---> 25\u001b[1;33m         \u001b[0mresult\u001b[0m \u001b[1;33m=\u001b[0m \u001b[0mcross_validation\u001b[0m\u001b[1;33m(\u001b[0m\u001b[0my_train\u001b[0m\u001b[1;33m,\u001b[0m \u001b[0mx_train_cleaned\u001b[0m\u001b[1;33m,\u001b[0m \u001b[0mk_indices\u001b[0m\u001b[1;33m,\u001b[0m \u001b[0mk\u001b[0m \u001b[1;33m,\u001b[0m \u001b[0mlambdas\u001b[0m\u001b[1;33m,\u001b[0m \u001b[0mdegree_\u001b[0m\u001b[1;33m,\u001b[0m \u001b[0mnmc_tr\u001b[0m\u001b[1;33m)\u001b[0m\u001b[1;33m\u001b[0m\u001b[0m\n\u001b[0m\u001b[0;32m     26\u001b[0m         \u001b[0mloss_te\u001b[0m\u001b[1;33m[\u001b[0m\u001b[0mk\u001b[0m\u001b[1;33m]\u001b[0m\u001b[1;33m=\u001b[0m \u001b[0mresult\u001b[0m\u001b[1;33m\u001b[0m\u001b[0m\n\u001b[0;32m     27\u001b[0m \u001b[1;33m\u001b[0m\u001b[0m\n",
      "\u001b[1;31mTypeError\u001b[0m: cross_validation() takes 6 positional arguments but 7 were given"
     ]
    }
   ],
   "source": [
    "#def cross_validation_degree():\n",
    "    \n",
    "seed = 1\n",
    "degrees = np.arange(1,20)\n",
    "k_fold = 4\n",
    "lambdas = 10**-2\n",
    "    \n",
    "# split data in k fold\n",
    "k_indices = build_k_indices(y_train, k_fold, seed)\n",
    "    \n",
    "# define lists to store the loss of training data and test data\n",
    "cost_te = []\n",
    "\n",
    "# Clean data\n",
    "x_train_cleaned,nmc_tr=cleaning_function(x_train,-999)\n",
    "       \n",
    "# cross validation\n",
    "for ind, degree_ in enumerate(degrees):\n",
    "    print('DEGREE IS: ')\n",
    "    print(degree_)\n",
    "    loss_te = np.zeros(k_fold)\n",
    "    for k in range (k_fold):\n",
    "        print('K CONSIDERED IS: ')\n",
    "        print(k)\n",
    "        result = cross_validation(y_train, x_train_cleaned, k_indices, k , lambdas, degree_, nmc_tr)\n",
    "        loss_te[k]= result\n",
    "        \n",
    "    cost_te.append(loss_te.mean())\n",
    "\n",
    "# Plot the results    \n",
    "plt.figure\n",
    "plt.plot(range(4,20),cost_te)\n",
    "plt.xlabel('degree')\n",
    "plt.ylabel('train accuracy')\n",
    "plt.show()\n",
    "\n",
    "#cross_validation_degree()"
   ]
  },
  {
   "cell_type": "code",
   "execution_count": 93,
   "metadata": {},
   "outputs": [
    {
     "ename": "NameError",
     "evalue": "name 'cost_te' is not defined",
     "output_type": "error",
     "traceback": [
      "\u001b[1;31m---------------------------------------------------------------------------\u001b[0m",
      "\u001b[1;31mNameError\u001b[0m                                 Traceback (most recent call last)",
      "\u001b[1;32m<ipython-input-93-a40a1120da4c>\u001b[0m in \u001b[0;36m<module>\u001b[1;34m()\u001b[0m\n\u001b[0;32m      1\u001b[0m \u001b[1;31m# Plot the results\u001b[0m\u001b[1;33m\u001b[0m\u001b[1;33m\u001b[0m\u001b[0m\n\u001b[0;32m      2\u001b[0m \u001b[0mplt\u001b[0m\u001b[1;33m.\u001b[0m\u001b[0mfigure\u001b[0m\u001b[1;33m\u001b[0m\u001b[0m\n\u001b[1;32m----> 3\u001b[1;33m \u001b[0mplt\u001b[0m\u001b[1;33m.\u001b[0m\u001b[0mplot\u001b[0m\u001b[1;33m(\u001b[0m\u001b[0mrange\u001b[0m\u001b[1;33m(\u001b[0m\u001b[1;36m4\u001b[0m\u001b[1;33m,\u001b[0m\u001b[1;36m20\u001b[0m\u001b[1;33m)\u001b[0m\u001b[1;33m,\u001b[0m\u001b[0mcost_te\u001b[0m\u001b[1;33m)\u001b[0m\u001b[1;33m\u001b[0m\u001b[0m\n\u001b[0m\u001b[0;32m      4\u001b[0m \u001b[0mplt\u001b[0m\u001b[1;33m.\u001b[0m\u001b[0mxlabel\u001b[0m\u001b[1;33m(\u001b[0m\u001b[1;34m'degree'\u001b[0m\u001b[1;33m)\u001b[0m\u001b[1;33m\u001b[0m\u001b[0m\n\u001b[0;32m      5\u001b[0m \u001b[0mplt\u001b[0m\u001b[1;33m.\u001b[0m\u001b[0mylabel\u001b[0m\u001b[1;33m(\u001b[0m\u001b[1;34m'train accuracy'\u001b[0m\u001b[1;33m)\u001b[0m\u001b[1;33m\u001b[0m\u001b[0m\n",
      "\u001b[1;31mNameError\u001b[0m: name 'cost_te' is not defined"
     ]
    }
   ],
   "source": [
    "# Plot the results    \n",
    "plt.figure\n",
    "plt.plot(range(4,20),cost_te)\n",
    "plt.xlabel('degree')\n",
    "plt.ylabel('train accuracy')\n",
    "plt.show()"
   ]
  },
  {
   "cell_type": "code",
   "execution_count": 42,
   "metadata": {},
   "outputs": [
    {
     "ename": "ModuleNotFoundError",
     "evalue": "No module named 'plots'",
     "output_type": "error",
     "traceback": [
      "\u001b[1;31m---------------------------------------------------------------------------\u001b[0m",
      "\u001b[1;31mModuleNotFoundError\u001b[0m                       Traceback (most recent call last)",
      "\u001b[1;32m<ipython-input-42-a7887e5e7836>\u001b[0m in \u001b[0;36m<module>\u001b[1;34m()\u001b[0m\n\u001b[1;32m----> 1\u001b[1;33m \u001b[1;32mfrom\u001b[0m \u001b[0mplots\u001b[0m \u001b[1;32mimport\u001b[0m \u001b[0mcross_validation_visualization\u001b[0m\u001b[1;33m\u001b[0m\u001b[0m\n\u001b[0m\u001b[0;32m      2\u001b[0m \u001b[1;33m\u001b[0m\u001b[0m\n\u001b[0;32m      3\u001b[0m \u001b[1;32mdef\u001b[0m \u001b[0mcross_validation_demo\u001b[0m\u001b[1;33m(\u001b[0m\u001b[1;33m)\u001b[0m\u001b[1;33m:\u001b[0m\u001b[1;33m\u001b[0m\u001b[0m\n\u001b[0;32m      4\u001b[0m     \u001b[0mseed\u001b[0m \u001b[1;33m=\u001b[0m \u001b[1;36m1\u001b[0m\u001b[1;33m\u001b[0m\u001b[0m\n\u001b[0;32m      5\u001b[0m     \u001b[0mdegree\u001b[0m \u001b[1;33m=\u001b[0m \u001b[1;36m7\u001b[0m\u001b[1;33m\u001b[0m\u001b[0m\n",
      "\u001b[1;31mModuleNotFoundError\u001b[0m: No module named 'plots'"
     ]
    }
   ],
   "source": [
    "from plots import cross_validation_visualization\n",
    "\n",
    "def cross_validation_demo():\n",
    "    seed = 1\n",
    "    degree = 7\n",
    "    k_fold = 4\n",
    "    lambdas = np.logspace(-4, 0, 30)\n",
    "    # split data in k fold\n",
    "    k_indices = build_k_indices(y, k_fold, seed)\n",
    "    # define lists to store the loss of training data and test data\n",
    "    rmse_tr = []\n",
    "    rmse_te = []\n",
    "    # ***************************************************\n",
    "    # INSERT YOUR CODE HERE\n",
    "    # cross validation: TODO\n",
    "    for ind, lambda_ in enumerate(lambdas):\n",
    "        loss_tr = np.zeros(k_fold)\n",
    "        loss_te = np.zeros(k_fold)\n",
    "        for k in range (k_fold):\n",
    "            temp_tr, temp_te = cross_validation(y, x, k_indices, k , lambda_, degree)\n",
    "            loss_tr[k]= temp_tr\n",
    "            loss_te[k]= temp_te\n",
    "        \n",
    "        rmse_tr.append(loss_tr.mean())\n",
    "        rmse_te.append(loss_te.mean())\n",
    "    # ***************************************************    \n",
    "    cross_validation_visualization(lambdas, rmse_tr, rmse_te)\n",
    "\n",
    "cross_validation_demo()"
   ]
  },
  {
   "cell_type": "code",
   "execution_count": null,
   "metadata": {},
   "outputs": [],
   "source": []
  },
  {
   "cell_type": "code",
   "execution_count": 249,
   "metadata": {},
   "outputs": [
    {
     "data": {
      "text/plain": [
       "1"
      ]
     },
     "execution_count": 249,
     "metadata": {},
     "output_type": "execute_result"
    }
   ],
   "source": [
    "a=0\n",
    "a=a+1\n",
    "a"
   ]
  },
  {
   "cell_type": "code",
   "execution_count": 48,
   "metadata": {},
   "outputs": [],
   "source": [
    "? np.genfromtxt()"
   ]
  },
  {
   "cell_type": "code",
   "execution_count": 213,
   "metadata": {},
   "outputs": [
    {
     "data": {
      "text/plain": [
       "nan"
      ]
     },
     "execution_count": 213,
     "metadata": {},
     "output_type": "execute_result"
    }
   ],
   "source": [
    "np.nan"
   ]
  },
  {
   "cell_type": "code",
   "execution_count": 212,
   "metadata": {
    "collapsed": true
   },
   "outputs": [],
   "source": [
    "? np.mean"
   ]
  },
  {
   "cell_type": "code",
   "execution_count": 244,
   "metadata": {
    "collapsed": true
   },
   "outputs": [],
   "source": [
    "? np.argmin"
   ]
  },
  {
   "cell_type": "code",
   "execution_count": 14,
   "metadata": {},
   "outputs": [
    {
     "name": "stdout",
     "output_type": "stream",
     "text": [
      "[[1 1]\n",
      " [2 2]\n",
      " [3 3]\n",
      " [4 4]\n",
      " [5 5]]\n"
     ]
    }
   ],
   "source": [
    "a=np.array([1,2,3,4,5])\n",
    "b=np.concatenate([a.reshape(-1,1),a.reshape(-1,1)],axis=1)\n",
    "print(b)"
   ]
  },
  {
   "cell_type": "code",
   "execution_count": null,
   "metadata": {
    "collapsed": true
   },
   "outputs": [],
   "source": []
  }
 ],
 "metadata": {
  "kernelspec": {
   "display_name": "Python 3",
   "language": "python",
   "name": "python3"
  },
  "language_info": {
   "codemirror_mode": {
    "name": "ipython",
    "version": 3
   },
   "file_extension": ".py",
   "mimetype": "text/x-python",
   "name": "python",
   "nbconvert_exporter": "python",
   "pygments_lexer": "ipython3",
   "version": "3.6.5"
  }
 },
 "nbformat": 4,
 "nbformat_minor": 2
}
